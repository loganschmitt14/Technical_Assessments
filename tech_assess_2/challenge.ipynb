{
 "cells": [
  {
   "cell_type": "code",
   "execution_count": 11,
   "id": "57fd86d3-888c-4b05-ae2d-2ca4418b4bf4",
   "metadata": {},
   "outputs": [],
   "source": [
    "import pandas as pd\n",
    "import seaborn as sns\n",
    "import matplotlib.pyplot as plt\n",
    "import numpy as np\n",
    "import datetime as dt"
   ]
  },
  {
   "cell_type": "markdown",
   "id": "182b9256-93f7-4115-a589-a445a950745e",
   "metadata": {},
   "source": [
    "## Engagement Data ##"
   ]
  },
  {
   "cell_type": "code",
   "execution_count": 10,
   "id": "335ea143-85a7-4d2a-9abf-cb4a2f57f698",
   "metadata": {},
   "outputs": [
    {
     "data": {
      "text/html": [
       "<div>\n",
       "<style scoped>\n",
       "    .dataframe tbody tr th:only-of-type {\n",
       "        vertical-align: middle;\n",
       "    }\n",
       "\n",
       "    .dataframe tbody tr th {\n",
       "        vertical-align: top;\n",
       "    }\n",
       "\n",
       "    .dataframe thead th {\n",
       "        text-align: right;\n",
       "    }\n",
       "</style>\n",
       "<table border=\"1\" class=\"dataframe\">\n",
       "  <thead>\n",
       "    <tr style=\"text-align: right;\">\n",
       "      <th></th>\n",
       "      <th>time_stamp</th>\n",
       "      <th>user_id</th>\n",
       "      <th>visited</th>\n",
       "    </tr>\n",
       "  </thead>\n",
       "  <tbody>\n",
       "    <tr>\n",
       "      <th>0</th>\n",
       "      <td>2014-04-22 03:53:30</td>\n",
       "      <td>1</td>\n",
       "      <td>1</td>\n",
       "    </tr>\n",
       "    <tr>\n",
       "      <th>1</th>\n",
       "      <td>2013-11-15 03:45:04</td>\n",
       "      <td>2</td>\n",
       "      <td>1</td>\n",
       "    </tr>\n",
       "    <tr>\n",
       "      <th>2</th>\n",
       "      <td>2013-11-29 03:45:04</td>\n",
       "      <td>2</td>\n",
       "      <td>1</td>\n",
       "    </tr>\n",
       "    <tr>\n",
       "      <th>3</th>\n",
       "      <td>2013-12-09 03:45:04</td>\n",
       "      <td>2</td>\n",
       "      <td>1</td>\n",
       "    </tr>\n",
       "    <tr>\n",
       "      <th>4</th>\n",
       "      <td>2013-12-25 03:45:04</td>\n",
       "      <td>2</td>\n",
       "      <td>1</td>\n",
       "    </tr>\n",
       "  </tbody>\n",
       "</table>\n",
       "</div>"
      ],
      "text/plain": [
       "            time_stamp  user_id  visited\n",
       "0  2014-04-22 03:53:30        1        1\n",
       "1  2013-11-15 03:45:04        2        1\n",
       "2  2013-11-29 03:45:04        2        1\n",
       "3  2013-12-09 03:45:04        2        1\n",
       "4  2013-12-25 03:45:04        2        1"
      ]
     },
     "execution_count": 10,
     "metadata": {},
     "output_type": "execute_result"
    }
   ],
   "source": [
    "raw_engagement_df = pd.read_csv('takehome_user_engagement.csv')\n",
    "raw_engagement_df.head()"
   ]
  },
  {
   "cell_type": "code",
   "execution_count": 85,
   "id": "86055a28-1ec0-4489-b728-b9934790af2e",
   "metadata": {},
   "outputs": [
    {
     "data": {
      "text/plain": [
       "8823"
      ]
     },
     "execution_count": 85,
     "metadata": {},
     "output_type": "execute_result"
    }
   ],
   "source": [
    "len(raw_engagement_df['user_id'].unique())"
   ]
  },
  {
   "cell_type": "code",
   "execution_count": 12,
   "id": "1b9425e9-e174-4e72-aa08-3aecc875e263",
   "metadata": {},
   "outputs": [
    {
     "data": {
      "text/plain": [
       "time_stamp    object\n",
       "user_id        int64\n",
       "visited        int64\n",
       "dtype: object"
      ]
     },
     "execution_count": 12,
     "metadata": {},
     "output_type": "execute_result"
    }
   ],
   "source": [
    "raw_engagement_df.dtypes"
   ]
  },
  {
   "cell_type": "code",
   "execution_count": 28,
   "id": "bb0c5ee3-4e34-479c-9ea5-420a4d5ca5ff",
   "metadata": {},
   "outputs": [
    {
     "data": {
      "text/plain": [
       "time_stamp    0\n",
       "user_id       0\n",
       "visited       0\n",
       "dtype: int64"
      ]
     },
     "execution_count": 28,
     "metadata": {},
     "output_type": "execute_result"
    }
   ],
   "source": [
    "raw_engagement_df.isna().sum()"
   ]
  },
  {
   "cell_type": "markdown",
   "id": "86c5cf4d-6ecc-4a7b-8e4f-59d334c24db9",
   "metadata": {},
   "source": [
    "### Observations ###\n",
    "No missing data, but the timestamp data is in object type instead of datetime type. I also don't need time, just date. And I need to reorder the data."
   ]
  },
  {
   "cell_type": "code",
   "execution_count": 57,
   "id": "709c7f23-10cc-4efb-b1f6-8c3ec0281538",
   "metadata": {},
   "outputs": [],
   "source": [
    "engagement_df = (raw_engagement_df\n",
    "                 .assign(timestamp = lambda x: pd.to_datetime(x['time_stamp']).dt.floor('1D'))\n",
    "                 .drop('time_stamp', axis = 1)\n",
    "                 .reindex(columns = ['timestamp', 'user_id', 'visited'])\n",
    "                 .sort_values(by='timestamp')\n",
    "                 .reset_index(drop = True)\n",
    "                )"
   ]
  },
  {
   "cell_type": "code",
   "execution_count": 50,
   "id": "d5add984-2bff-47af-9194-fc3909220a7c",
   "metadata": {},
   "outputs": [
    {
     "data": {
      "text/html": [
       "<div>\n",
       "<style scoped>\n",
       "    .dataframe tbody tr th:only-of-type {\n",
       "        vertical-align: middle;\n",
       "    }\n",
       "\n",
       "    .dataframe tbody tr th {\n",
       "        vertical-align: top;\n",
       "    }\n",
       "\n",
       "    .dataframe thead th {\n",
       "        text-align: right;\n",
       "    }\n",
       "</style>\n",
       "<table border=\"1\" class=\"dataframe\">\n",
       "  <thead>\n",
       "    <tr style=\"text-align: right;\">\n",
       "      <th></th>\n",
       "      <th>timestamp</th>\n",
       "      <th>user_id</th>\n",
       "      <th>visited</th>\n",
       "    </tr>\n",
       "  </thead>\n",
       "  <tbody>\n",
       "    <tr>\n",
       "      <th>0</th>\n",
       "      <td>2012-05-31</td>\n",
       "      <td>1693</td>\n",
       "      <td>1</td>\n",
       "    </tr>\n",
       "    <tr>\n",
       "      <th>1</th>\n",
       "      <td>2012-05-31</td>\n",
       "      <td>3428</td>\n",
       "      <td>1</td>\n",
       "    </tr>\n",
       "    <tr>\n",
       "      <th>2</th>\n",
       "      <td>2012-05-31</td>\n",
       "      <td>10012</td>\n",
       "      <td>1</td>\n",
       "    </tr>\n",
       "    <tr>\n",
       "      <th>3</th>\n",
       "      <td>2012-05-31</td>\n",
       "      <td>9899</td>\n",
       "      <td>1</td>\n",
       "    </tr>\n",
       "    <tr>\n",
       "      <th>4</th>\n",
       "      <td>2012-06-01</td>\n",
       "      <td>10163</td>\n",
       "      <td>1</td>\n",
       "    </tr>\n",
       "  </tbody>\n",
       "</table>\n",
       "</div>"
      ],
      "text/plain": [
       "   timestamp  user_id  visited\n",
       "0 2012-05-31     1693        1\n",
       "1 2012-05-31     3428        1\n",
       "2 2012-05-31    10012        1\n",
       "3 2012-05-31     9899        1\n",
       "4 2012-06-01    10163        1"
      ]
     },
     "execution_count": 50,
     "metadata": {},
     "output_type": "execute_result"
    }
   ],
   "source": [
    "engagement_df.head()"
   ]
  },
  {
   "cell_type": "markdown",
   "id": "bd283f49-43b2-4a14-8a4a-bf96e9a17d40",
   "metadata": {},
   "source": [
    "I'll need to create a sliding window function that looks at 7 day windows to create a set of \"active\" users."
   ]
  },
  {
   "cell_type": "code",
   "execution_count": 65,
   "id": "1906e462-1cf2-4676-ac9f-14c306533133",
   "metadata": {},
   "outputs": [
    {
     "data": {
      "text/plain": [
       "2248"
      ]
     },
     "execution_count": 65,
     "metadata": {},
     "output_type": "execute_result"
    }
   ],
   "source": [
    "def check_adoption(df):\n",
    "    return df['timestamp'].rolling(7, min_periods = 3).count() >= 3\n",
    "\n",
    "# Group by 'user_id' and apply the function\n",
    "engagement_df['visit_within_week'] = engagement_df.groupby('user_id').apply(check_adoption).reset_index(level = 0, drop = True)\n",
    "\n",
    "# Filter users who visited at least 3 times in a 7-day period\n",
    "adopted_users = engagement_df[engagement_df['visit_within_week']].reset_index()['user_id'].unique()\n",
    "\n",
    "len(active_users)"
   ]
  },
  {
   "cell_type": "code",
   "execution_count": 87,
   "id": "74e1ab2a-aace-477d-b7c9-ec3e7e28b939",
   "metadata": {},
   "outputs": [
    {
     "name": "stdout",
     "output_type": "stream",
     "text": [
      "0.2548\n"
     ]
    }
   ],
   "source": [
    "print(f'{2248/8823:.4f}')"
   ]
  },
  {
   "cell_type": "markdown",
   "id": "8b5f650e-eb8c-4416-8e70-1fb1cce5c56b",
   "metadata": {},
   "source": [
    "Of the 8823 users in the table, 2248 have adopted the service according to the criterion of having logged in at least 3 times in any seven-day window. This is a ~25% conversion rate."
   ]
  },
  {
   "cell_type": "markdown",
   "id": "132a15c2-26c6-49e4-8b79-e2647c8ac0a6",
   "metadata": {},
   "source": [
    "## Users Data ##"
   ]
  },
  {
   "cell_type": "code",
   "execution_count": 9,
   "id": "134d4211-84e4-4594-a730-3f3a7fcc70eb",
   "metadata": {},
   "outputs": [
    {
     "data": {
      "text/html": [
       "<div>\n",
       "<style scoped>\n",
       "    .dataframe tbody tr th:only-of-type {\n",
       "        vertical-align: middle;\n",
       "    }\n",
       "\n",
       "    .dataframe tbody tr th {\n",
       "        vertical-align: top;\n",
       "    }\n",
       "\n",
       "    .dataframe thead th {\n",
       "        text-align: right;\n",
       "    }\n",
       "</style>\n",
       "<table border=\"1\" class=\"dataframe\">\n",
       "  <thead>\n",
       "    <tr style=\"text-align: right;\">\n",
       "      <th></th>\n",
       "      <th>object_id</th>\n",
       "      <th>creation_time</th>\n",
       "      <th>name</th>\n",
       "      <th>email</th>\n",
       "      <th>creation_source</th>\n",
       "      <th>last_session_creation_time</th>\n",
       "      <th>opted_in_to_mailing_list</th>\n",
       "      <th>enabled_for_marketing_drip</th>\n",
       "      <th>org_id</th>\n",
       "      <th>invited_by_user_id</th>\n",
       "    </tr>\n",
       "  </thead>\n",
       "  <tbody>\n",
       "    <tr>\n",
       "      <th>0</th>\n",
       "      <td>1</td>\n",
       "      <td>2014-04-22 03:53:30</td>\n",
       "      <td>Clausen August</td>\n",
       "      <td>AugustCClausen@yahoo.com</td>\n",
       "      <td>GUEST_INVITE</td>\n",
       "      <td>1.398139e+09</td>\n",
       "      <td>1</td>\n",
       "      <td>0</td>\n",
       "      <td>11</td>\n",
       "      <td>10803.0</td>\n",
       "    </tr>\n",
       "    <tr>\n",
       "      <th>1</th>\n",
       "      <td>2</td>\n",
       "      <td>2013-11-15 03:45:04</td>\n",
       "      <td>Poole Matthew</td>\n",
       "      <td>MatthewPoole@gustr.com</td>\n",
       "      <td>ORG_INVITE</td>\n",
       "      <td>1.396238e+09</td>\n",
       "      <td>0</td>\n",
       "      <td>0</td>\n",
       "      <td>1</td>\n",
       "      <td>316.0</td>\n",
       "    </tr>\n",
       "    <tr>\n",
       "      <th>2</th>\n",
       "      <td>3</td>\n",
       "      <td>2013-03-19 23:14:52</td>\n",
       "      <td>Bottrill Mitchell</td>\n",
       "      <td>MitchellBottrill@gustr.com</td>\n",
       "      <td>ORG_INVITE</td>\n",
       "      <td>1.363735e+09</td>\n",
       "      <td>0</td>\n",
       "      <td>0</td>\n",
       "      <td>94</td>\n",
       "      <td>1525.0</td>\n",
       "    </tr>\n",
       "    <tr>\n",
       "      <th>3</th>\n",
       "      <td>4</td>\n",
       "      <td>2013-05-21 08:09:28</td>\n",
       "      <td>Clausen Nicklas</td>\n",
       "      <td>NicklasSClausen@yahoo.com</td>\n",
       "      <td>GUEST_INVITE</td>\n",
       "      <td>1.369210e+09</td>\n",
       "      <td>0</td>\n",
       "      <td>0</td>\n",
       "      <td>1</td>\n",
       "      <td>5151.0</td>\n",
       "    </tr>\n",
       "    <tr>\n",
       "      <th>4</th>\n",
       "      <td>5</td>\n",
       "      <td>2013-01-17 10:14:20</td>\n",
       "      <td>Raw Grace</td>\n",
       "      <td>GraceRaw@yahoo.com</td>\n",
       "      <td>GUEST_INVITE</td>\n",
       "      <td>1.358850e+09</td>\n",
       "      <td>0</td>\n",
       "      <td>0</td>\n",
       "      <td>193</td>\n",
       "      <td>5240.0</td>\n",
       "    </tr>\n",
       "  </tbody>\n",
       "</table>\n",
       "</div>"
      ],
      "text/plain": [
       "   object_id        creation_time               name  \\\n",
       "0          1  2014-04-22 03:53:30     Clausen August   \n",
       "1          2  2013-11-15 03:45:04      Poole Matthew   \n",
       "2          3  2013-03-19 23:14:52  Bottrill Mitchell   \n",
       "3          4  2013-05-21 08:09:28    Clausen Nicklas   \n",
       "4          5  2013-01-17 10:14:20          Raw Grace   \n",
       "\n",
       "                        email creation_source  last_session_creation_time  \\\n",
       "0    AugustCClausen@yahoo.com    GUEST_INVITE                1.398139e+09   \n",
       "1      MatthewPoole@gustr.com      ORG_INVITE                1.396238e+09   \n",
       "2  MitchellBottrill@gustr.com      ORG_INVITE                1.363735e+09   \n",
       "3   NicklasSClausen@yahoo.com    GUEST_INVITE                1.369210e+09   \n",
       "4          GraceRaw@yahoo.com    GUEST_INVITE                1.358850e+09   \n",
       "\n",
       "   opted_in_to_mailing_list  enabled_for_marketing_drip  org_id  \\\n",
       "0                         1                           0      11   \n",
       "1                         0                           0       1   \n",
       "2                         0                           0      94   \n",
       "3                         0                           0       1   \n",
       "4                         0                           0     193   \n",
       "\n",
       "   invited_by_user_id  \n",
       "0             10803.0  \n",
       "1               316.0  \n",
       "2              1525.0  \n",
       "3              5151.0  \n",
       "4              5240.0  "
      ]
     },
     "execution_count": 9,
     "metadata": {},
     "output_type": "execute_result"
    }
   ],
   "source": [
    "raw_users_df = pd.read_csv('takehome_users.csv', encoding = 'cp1252')\n",
    "raw_users_df.head()"
   ]
  },
  {
   "cell_type": "code",
   "execution_count": 73,
   "id": "eb47a639-132d-4163-9db3-14fd57f937a7",
   "metadata": {},
   "outputs": [
    {
     "name": "stdout",
     "output_type": "stream",
     "text": [
      "<class 'pandas.core.frame.DataFrame'>\n",
      "RangeIndex: 12000 entries, 0 to 11999\n",
      "Data columns (total 10 columns):\n",
      " #   Column                      Non-Null Count  Dtype  \n",
      "---  ------                      --------------  -----  \n",
      " 0   object_id                   12000 non-null  int64  \n",
      " 1   creation_time               12000 non-null  object \n",
      " 2   name                        12000 non-null  object \n",
      " 3   email                       12000 non-null  object \n",
      " 4   creation_source             12000 non-null  object \n",
      " 5   last_session_creation_time  8823 non-null   float64\n",
      " 6   opted_in_to_mailing_list    12000 non-null  int64  \n",
      " 7   enabled_for_marketing_drip  12000 non-null  int64  \n",
      " 8   org_id                      12000 non-null  int64  \n",
      " 9   invited_by_user_id          6417 non-null   float64\n",
      "dtypes: float64(2), int64(4), object(4)\n",
      "memory usage: 937.6+ KB\n"
     ]
    }
   ],
   "source": [
    "raw_users_df.info()"
   ]
  },
  {
   "cell_type": "code",
   "execution_count": 69,
   "id": "cf7196c0-7321-42fa-a00d-6287b1b805f9",
   "metadata": {},
   "outputs": [
    {
     "data": {
      "text/plain": [
       "object_id                        0\n",
       "creation_time                    0\n",
       "name                             0\n",
       "email                            0\n",
       "creation_source                  0\n",
       "last_session_creation_time    3177\n",
       "opted_in_to_mailing_list         0\n",
       "enabled_for_marketing_drip       0\n",
       "org_id                           0\n",
       "invited_by_user_id            5583\n",
       "dtype: int64"
      ]
     },
     "execution_count": 69,
     "metadata": {},
     "output_type": "execute_result"
    }
   ],
   "source": [
    "raw_users_df.isna().sum()"
   ]
  },
  {
   "cell_type": "code",
   "execution_count": 70,
   "id": "6eba8aff-d0a2-4603-91ee-7a432c0e8d8e",
   "metadata": {},
   "outputs": [
    {
     "data": {
      "text/plain": [
       "array(['GUEST_INVITE', 'ORG_INVITE', 'SIGNUP', 'PERSONAL_PROJECTS',\n",
       "       'SIGNUP_GOOGLE_AUTH'], dtype=object)"
      ]
     },
     "execution_count": 70,
     "metadata": {},
     "output_type": "execute_result"
    }
   ],
   "source": [
    "raw_users_df['creation_source'].unique()"
   ]
  },
  {
   "cell_type": "code",
   "execution_count": 81,
   "id": "9a215524-6dce-4b47-8489-3d8d09d2888f",
   "metadata": {},
   "outputs": [
    {
     "data": {
      "text/plain": [
       "0       1970-01-01 00:00:01.398138810\n",
       "1       1970-01-01 00:00:01.396237504\n",
       "2       1970-01-01 00:00:01.363734892\n",
       "3       1970-01-01 00:00:01.369210168\n",
       "4       1970-01-01 00:00:01.358849660\n",
       "                     ...             \n",
       "11995   1970-01-01 00:00:01.378448055\n",
       "11996   1970-01-01 00:00:01.358274517\n",
       "11997   1970-01-01 00:00:01.398602716\n",
       "11998   1970-01-01 00:00:01.338638159\n",
       "11999   1970-01-01 00:00:01.390726632\n",
       "Name: last_session_creation_time, Length: 12000, dtype: datetime64[ns]"
      ]
     },
     "execution_count": 81,
     "metadata": {},
     "output_type": "execute_result"
    }
   ],
   "source": [
    "pd.to_datetime(raw_users_df['last_session_creation_time'])"
   ]
  },
  {
   "cell_type": "markdown",
   "id": "843bc48c-d68e-4608-9297-e97bff70626a",
   "metadata": {},
   "source": [
    "### Observations ###\n",
    "This table needs more attention.\n",
    "* The time data is not of consistent format.\n",
    "*  I have missing values in the last session column and the invited-by-user-id column.\n",
    "    *  These both make sense. If the user wasn't invited by another, they won't have a user id attributed to an inviter.\n",
    "    *  If the user never logged in after creating their account, they won't have a last session creation time. \n",
    "    * I'll fill the missing values in the session creation column with the signup date. I'll investigate the intviter user id column to understand if I can drop that column. Unless there are certain users that invite hundreds of users, this information probably isn't helpful for predictive or therefore actionable purposes. It'll more or less be captured by the creation source column.\n",
    "* I have names and emails that won't be useful for predictions, so I can drop those"
   ]
  },
  {
   "cell_type": "code",
   "execution_count": 77,
   "id": "44c12d79-31bf-4f43-8177-a1c3263eb458",
   "metadata": {},
   "outputs": [
    {
     "data": {
      "image/png": "[encoded data removed]",
      "text/plain": [
       "<Figure size 640x480 with 1 Axes>"
      ]
     },
     "metadata": {},
     "output_type": "display_data"
    }
   ],
   "source": [
    "raw_users_df['invited_by_user_id'].value_counts().hist()\n",
    "plt.title('Occurrence of User Inviting Others')\n",
    "plt.ylabel('Frequency')\n",
    "plt.xlabel('Number of Users Invited')\n",
    "plt.show()"
   ]
  },
  {
   "cell_type": "markdown",
   "id": "9a023331-7783-4e86-8b52-bdbf3b96809b",
   "metadata": {},
   "source": [
    "Most users who invite others only invite 1 other user. I can drop the column of inviter ID's without affecting my ability to analyze and predict from the remaining data."
   ]
  },
  {
   "cell_type": "code",
   "execution_count": null,
   "id": "f7d0b810-8e88-429f-ac3d-8fb5d17d7c36",
   "metadata": {},
   "outputs": [
    {
     "data": {
      "text/html": [
       "<div>\n",
       "<style scoped>\n",
       "    .dataframe tbody tr th:only-of-type {\n",
       "        vertical-align: middle;\n",
       "    }\n",
       "\n",
       "    .dataframe tbody tr th {\n",
       "        vertical-align: top;\n",
       "    }\n",
       "\n",
       "    .dataframe thead th {\n",
       "        text-align: right;\n",
       "    }\n",
       "</style>\n",
       "<table border=\"1\" class=\"dataframe\">\n",
       "  <thead>\n",
       "    <tr style=\"text-align: right;\">\n",
       "      <th></th>\n",
       "      <th>user_id</th>\n",
       "      <th>mail_list</th>\n",
       "      <th>drip_mktg</th>\n",
       "      <th>org_id</th>\n",
       "      <th>org_invite</th>\n",
       "      <th>project_signup</th>\n",
       "      <th>signup</th>\n",
       "      <th>google_signup</th>\n",
       "      <th>guest_invite</th>\n",
       "      <th>creation_date</th>\n",
       "      <th>last_session</th>\n",
       "      <th>adopted</th>\n",
       "    </tr>\n",
       "  </thead>\n",
       "  <tbody>\n",
       "    <tr>\n",
       "      <th>0</th>\n",
       "      <td>1</td>\n",
       "      <td>1</td>\n",
       "      <td>0</td>\n",
       "      <td>11</td>\n",
       "      <td>0</td>\n",
       "      <td>0</td>\n",
       "      <td>0</td>\n",
       "      <td>0</td>\n",
       "      <td>1</td>\n",
       "      <td>2014-04-22</td>\n",
       "      <td>2014-04-22</td>\n",
       "      <td>0</td>\n",
       "    </tr>\n",
       "    <tr>\n",
       "      <th>1</th>\n",
       "      <td>2</td>\n",
       "      <td>0</td>\n",
       "      <td>0</td>\n",
       "      <td>1</td>\n",
       "      <td>1</td>\n",
       "      <td>0</td>\n",
       "      <td>0</td>\n",
       "      <td>0</td>\n",
       "      <td>0</td>\n",
       "      <td>2013-11-15</td>\n",
       "      <td>2014-03-31</td>\n",
       "      <td>1</td>\n",
       "    </tr>\n",
       "    <tr>\n",
       "      <th>2</th>\n",
       "      <td>3</td>\n",
       "      <td>0</td>\n",
       "      <td>0</td>\n",
       "      <td>94</td>\n",
       "      <td>1</td>\n",
       "      <td>0</td>\n",
       "      <td>0</td>\n",
       "      <td>0</td>\n",
       "      <td>0</td>\n",
       "      <td>2013-03-19</td>\n",
       "      <td>2013-03-19</td>\n",
       "      <td>0</td>\n",
       "    </tr>\n",
       "    <tr>\n",
       "      <th>3</th>\n",
       "      <td>4</td>\n",
       "      <td>0</td>\n",
       "      <td>0</td>\n",
       "      <td>1</td>\n",
       "      <td>0</td>\n",
       "      <td>0</td>\n",
       "      <td>0</td>\n",
       "      <td>0</td>\n",
       "      <td>1</td>\n",
       "      <td>2013-05-21</td>\n",
       "      <td>2013-05-22</td>\n",
       "      <td>0</td>\n",
       "    </tr>\n",
       "    <tr>\n",
       "      <th>4</th>\n",
       "      <td>5</td>\n",
       "      <td>0</td>\n",
       "      <td>0</td>\n",
       "      <td>193</td>\n",
       "      <td>0</td>\n",
       "      <td>0</td>\n",
       "      <td>0</td>\n",
       "      <td>0</td>\n",
       "      <td>1</td>\n",
       "      <td>2013-01-17</td>\n",
       "      <td>2013-01-22</td>\n",
       "      <td>0</td>\n",
       "    </tr>\n",
       "  </tbody>\n",
       "</table>\n",
       "</div>"
      ],
      "text/plain": [
       "   user_id  mail_list  drip_mktg  org_id  org_invite  project_signup  signup  \\\n",
       "0        1          1          0      11           0               0       0   \n",
       "1        2          0          0       1           1               0       0   \n",
       "2        3          0          0      94           1               0       0   \n",
       "3        4          0          0       1           0               0       0   \n",
       "4        5          0          0     193           0               0       0   \n",
       "\n",
       "   google_signup  guest_invite creation_date last_session  adopted  \n",
       "0              0             1    2014-04-22   2014-04-22        0  \n",
       "1              0             0    2013-11-15   2014-03-31        1  \n",
       "2              0             0    2013-03-19   2013-03-19        0  \n",
       "3              0             1    2013-05-21   2013-05-22        0  \n",
       "4              0             1    2013-01-17   2013-01-22        0  "
      ]
     },
     "execution_count": 99,
     "metadata": {},
     "output_type": "execute_result"
    }
   ],
   "source": [
    "users_df = (raw_users_df\n",
    "            .drop(['invited_by_user_id', 'name', 'email'], axis = 1)\n",
    "            .fillna(raw_users_df['creation_time'])\n",
    "            .assign(creation_date = lambda x: pd.to_datetime(x['creation_time']).dt.floor('1D'))\n",
    "            .assign(last_session = lambda x: pd.to_datetime(x['last_session_creation_time'], unit='s').dt.floor('1D'))\n",
    "            .assign(adopted = lambda x: x['object_id'].isin(active_users))\n",
    "            .astype({'adopted': 'int'})\n",
    "            .drop(['creation_time', 'last_session_creation_time'], axis = 1)\n",
    "            .pipe(lambda df: pd.get_dummies(df, columns = ['creation_source'], drop_first = False))\n",
    "            .rename(columns = {\n",
    "                'object_id': 'user_id',\n",
    "                'opted_in_to_mailing_list': 'mail_list', \n",
    "                'enabled_for_marketing_drip': 'drip_mktg', \n",
    "                'creation_source_ORG_INVITE': 'org_invite',\n",
    "                'creation_source_PERSONAL_PROJECTS': 'project_signup',\n",
    "                'creation_source_SIGNUP': 'signup',\n",
    "                'creation_source_SIGNUP_GOOGLE_AUTH': 'google_signup',\n",
    "                'creation_source_GUEST_INVITE': 'guest_invite'\n",
    "            })\n",
    "            .reindex(columns = [\n",
    "                'user_id',\n",
    "                'mail_list',\n",
    "                'drip_mktg', \n",
    "                'org_id', \n",
    "                'org_invite', \n",
    "                'project_signup', \n",
    "                'signup', \n",
    "                'google_signup', \n",
    "                'guest_invite', \n",
    "                'creation_date', \n",
    "                'last_session', \n",
    "                'adopted'\n",
    "            ])\n",
    "           )\n",
    "users_df.head()"
   ]
  }
 ],
 "metadata": {
  "kernelspec": {
   "display_name": "Python 3 (ipykernel)",
   "language": "python",
   "name": "python3"
  },
  "language_info": {
   "codemirror_mode": {
    "name": "ipython",
    "version": 3
   },
   "file_extension": ".py",
   "mimetype": "text/x-python",
   "name": "python",
   "nbconvert_exporter": "python",
   "pygments_lexer": "ipython3",
   "version": "3.9.13"
  }
 },
 "nbformat": 4,
 "nbformat_minor": 5
}
