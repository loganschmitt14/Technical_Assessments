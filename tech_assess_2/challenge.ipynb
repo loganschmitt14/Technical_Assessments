{
 "cells": [
  {
   "cell_type": "code",
   "execution_count": 105,
   "id": "57fd86d3-888c-4b05-ae2d-2ca4418b4bf4",
   "metadata": {},
   "outputs": [],
   "source": [
    "import pandas as pd\n",
    "import seaborn as sns\n",
    "import matplotlib.pyplot as plt\n",
    "import numpy as np\n",
    "import datetime as dt\n",
    "from scipy.stats import chi2_contingency"
   ]
  },
  {
   "cell_type": "markdown",
   "id": "182b9256-93f7-4115-a589-a445a950745e",
   "metadata": {},
   "source": [
    "## Engagement Data ##"
   ]
  },
  {
   "cell_type": "code",
   "execution_count": 2,
   "id": "335ea143-85a7-4d2a-9abf-cb4a2f57f698",
   "metadata": {},
   "outputs": [
    {
     "data": {
      "text/html": [
       "<div>\n",
       "<style scoped>\n",
       "    .dataframe tbody tr th:only-of-type {\n",
       "        vertical-align: middle;\n",
       "    }\n",
       "\n",
       "    .dataframe tbody tr th {\n",
       "        vertical-align: top;\n",
       "    }\n",
       "\n",
       "    .dataframe thead th {\n",
       "        text-align: right;\n",
       "    }\n",
       "</style>\n",
       "<table border=\"1\" class=\"dataframe\">\n",
       "  <thead>\n",
       "    <tr style=\"text-align: right;\">\n",
       "      <th></th>\n",
       "      <th>time_stamp</th>\n",
       "      <th>user_id</th>\n",
       "      <th>visited</th>\n",
       "    </tr>\n",
       "  </thead>\n",
       "  <tbody>\n",
       "    <tr>\n",
       "      <th>0</th>\n",
       "      <td>2014-04-22 03:53:30</td>\n",
       "      <td>1</td>\n",
       "      <td>1</td>\n",
       "    </tr>\n",
       "    <tr>\n",
       "      <th>1</th>\n",
       "      <td>2013-11-15 03:45:04</td>\n",
       "      <td>2</td>\n",
       "      <td>1</td>\n",
       "    </tr>\n",
       "    <tr>\n",
       "      <th>2</th>\n",
       "      <td>2013-11-29 03:45:04</td>\n",
       "      <td>2</td>\n",
       "      <td>1</td>\n",
       "    </tr>\n",
       "    <tr>\n",
       "      <th>3</th>\n",
       "      <td>2013-12-09 03:45:04</td>\n",
       "      <td>2</td>\n",
       "      <td>1</td>\n",
       "    </tr>\n",
       "    <tr>\n",
       "      <th>4</th>\n",
       "      <td>2013-12-25 03:45:04</td>\n",
       "      <td>2</td>\n",
       "      <td>1</td>\n",
       "    </tr>\n",
       "  </tbody>\n",
       "</table>\n",
       "</div>"
      ],
      "text/plain": [
       "            time_stamp  user_id  visited\n",
       "0  2014-04-22 03:53:30        1        1\n",
       "1  2013-11-15 03:45:04        2        1\n",
       "2  2013-11-29 03:45:04        2        1\n",
       "3  2013-12-09 03:45:04        2        1\n",
       "4  2013-12-25 03:45:04        2        1"
      ]
     },
     "execution_count": 2,
     "metadata": {},
     "output_type": "execute_result"
    }
   ],
   "source": [
    "raw_engagement_df = pd.read_csv('takehome_user_engagement.csv')\n",
    "raw_engagement_df.head()"
   ]
  },
  {
   "cell_type": "code",
   "execution_count": 85,
   "id": "86055a28-1ec0-4489-b728-b9934790af2e",
   "metadata": {},
   "outputs": [
    {
     "data": {
      "text/plain": [
       "8823"
      ]
     },
     "execution_count": 85,
     "metadata": {},
     "output_type": "execute_result"
    }
   ],
   "source": [
    "len(raw_engagement_df['user_id'].unique())"
   ]
  },
  {
   "cell_type": "code",
   "execution_count": 12,
   "id": "1b9425e9-e174-4e72-aa08-3aecc875e263",
   "metadata": {},
   "outputs": [
    {
     "data": {
      "text/plain": [
       "time_stamp    object\n",
       "user_id        int64\n",
       "visited        int64\n",
       "dtype: object"
      ]
     },
     "execution_count": 12,
     "metadata": {},
     "output_type": "execute_result"
    }
   ],
   "source": [
    "raw_engagement_df.dtypes"
   ]
  },
  {
   "cell_type": "code",
   "execution_count": 28,
   "id": "bb0c5ee3-4e34-479c-9ea5-420a4d5ca5ff",
   "metadata": {},
   "outputs": [
    {
     "data": {
      "text/plain": [
       "time_stamp    0\n",
       "user_id       0\n",
       "visited       0\n",
       "dtype: int64"
      ]
     },
     "execution_count": 28,
     "metadata": {},
     "output_type": "execute_result"
    }
   ],
   "source": [
    "raw_engagement_df.isna().sum()"
   ]
  },
  {
   "cell_type": "markdown",
   "id": "86c5cf4d-6ecc-4a7b-8e4f-59d334c24db9",
   "metadata": {},
   "source": [
    "### Observations ###\n",
    "No missing data, but the timestamp data is in object type instead of datetime type. I also don't need time, just date. And I need to reorder the data."
   ]
  },
  {
   "cell_type": "code",
   "execution_count": 3,
   "id": "709c7f23-10cc-4efb-b1f6-8c3ec0281538",
   "metadata": {},
   "outputs": [],
   "source": [
    "engagement_df = (raw_engagement_df\n",
    "                 .assign(timestamp = lambda x: pd.to_datetime(x['time_stamp']).dt.floor('1D'))\n",
    "                 .drop('time_stamp', axis = 1)\n",
    "                 .reindex(columns = ['timestamp', 'user_id', 'visited'])\n",
    "                 .sort_values(by='timestamp')\n",
    "                 .reset_index(drop = True)\n",
    "                )"
   ]
  },
  {
   "cell_type": "code",
   "execution_count": 50,
   "id": "d5add984-2bff-47af-9194-fc3909220a7c",
   "metadata": {},
   "outputs": [
    {
     "data": {
      "text/html": [
       "<div>\n",
       "<style scoped>\n",
       "    .dataframe tbody tr th:only-of-type {\n",
       "        vertical-align: middle;\n",
       "    }\n",
       "\n",
       "    .dataframe tbody tr th {\n",
       "        vertical-align: top;\n",
       "    }\n",
       "\n",
       "    .dataframe thead th {\n",
       "        text-align: right;\n",
       "    }\n",
       "</style>\n",
       "<table border=\"1\" class=\"dataframe\">\n",
       "  <thead>\n",
       "    <tr style=\"text-align: right;\">\n",
       "      <th></th>\n",
       "      <th>timestamp</th>\n",
       "      <th>user_id</th>\n",
       "      <th>visited</th>\n",
       "    </tr>\n",
       "  </thead>\n",
       "  <tbody>\n",
       "    <tr>\n",
       "      <th>0</th>\n",
       "      <td>2012-05-31</td>\n",
       "      <td>1693</td>\n",
       "      <td>1</td>\n",
       "    </tr>\n",
       "    <tr>\n",
       "      <th>1</th>\n",
       "      <td>2012-05-31</td>\n",
       "      <td>3428</td>\n",
       "      <td>1</td>\n",
       "    </tr>\n",
       "    <tr>\n",
       "      <th>2</th>\n",
       "      <td>2012-05-31</td>\n",
       "      <td>10012</td>\n",
       "      <td>1</td>\n",
       "    </tr>\n",
       "    <tr>\n",
       "      <th>3</th>\n",
       "      <td>2012-05-31</td>\n",
       "      <td>9899</td>\n",
       "      <td>1</td>\n",
       "    </tr>\n",
       "    <tr>\n",
       "      <th>4</th>\n",
       "      <td>2012-06-01</td>\n",
       "      <td>10163</td>\n",
       "      <td>1</td>\n",
       "    </tr>\n",
       "  </tbody>\n",
       "</table>\n",
       "</div>"
      ],
      "text/plain": [
       "   timestamp  user_id  visited\n",
       "0 2012-05-31     1693        1\n",
       "1 2012-05-31     3428        1\n",
       "2 2012-05-31    10012        1\n",
       "3 2012-05-31     9899        1\n",
       "4 2012-06-01    10163        1"
      ]
     },
     "execution_count": 50,
     "metadata": {},
     "output_type": "execute_result"
    }
   ],
   "source": [
    "engagement_df.head()"
   ]
  },
  {
   "cell_type": "markdown",
   "id": "bd283f49-43b2-4a14-8a4a-bf96e9a17d40",
   "metadata": {},
   "source": [
    "I'll need to create a sliding window function that looks at 7 day windows to create a set of \"active\" users."
   ]
  },
  {
   "cell_type": "code",
   "execution_count": 9,
   "id": "1906e462-1cf2-4676-ac9f-14c306533133",
   "metadata": {},
   "outputs": [
    {
     "data": {
      "text/plain": [
       "2248"
      ]
     },
     "execution_count": 9,
     "metadata": {},
     "output_type": "execute_result"
    }
   ],
   "source": [
    "def check_adoption(df):\n",
    "    return df['timestamp'].rolling(7, min_periods = 3).count() >= 3\n",
    "\n",
    "# Group by 'user_id' and apply the function\n",
    "engagement_df['visit_within_week'] = engagement_df.groupby('user_id').apply(check_adoption).reset_index(level = 0, drop = True)\n",
    "\n",
    "# Filter users who visited at least 3 times in a 7-day period\n",
    "adopted_users = engagement_df[engagement_df['visit_within_week']].reset_index()['user_id'].unique()\n",
    "\n",
    "len(adopted_users)"
   ]
  },
  {
   "cell_type": "code",
   "execution_count": 87,
   "id": "74e1ab2a-aace-477d-b7c9-ec3e7e28b939",
   "metadata": {},
   "outputs": [
    {
     "name": "stdout",
     "output_type": "stream",
     "text": [
      "0.2548\n"
     ]
    }
   ],
   "source": [
    "print(f'{2248/8823:.4f}')"
   ]
  },
  {
   "cell_type": "markdown",
   "id": "8b5f650e-eb8c-4416-8e70-1fb1cce5c56b",
   "metadata": {},
   "source": [
    "Of the 8823 users in the table, 2248 have adopted the service according to the criterion of having logged in at least 3 times in any seven-day window. This is a ~25% conversion rate."
   ]
  },
  {
   "cell_type": "markdown",
   "id": "132a15c2-26c6-49e4-8b79-e2647c8ac0a6",
   "metadata": {},
   "source": [
    "## Users Data ##"
   ]
  },
  {
   "cell_type": "code",
   "execution_count": 5,
   "id": "134d4211-84e4-4594-a730-3f3a7fcc70eb",
   "metadata": {},
   "outputs": [
    {
     "data": {
      "text/html": [
       "<div>\n",
       "<style scoped>\n",
       "    .dataframe tbody tr th:only-of-type {\n",
       "        vertical-align: middle;\n",
       "    }\n",
       "\n",
       "    .dataframe tbody tr th {\n",
       "        vertical-align: top;\n",
       "    }\n",
       "\n",
       "    .dataframe thead th {\n",
       "        text-align: right;\n",
       "    }\n",
       "</style>\n",
       "<table border=\"1\" class=\"dataframe\">\n",
       "  <thead>\n",
       "    <tr style=\"text-align: right;\">\n",
       "      <th></th>\n",
       "      <th>object_id</th>\n",
       "      <th>creation_time</th>\n",
       "      <th>name</th>\n",
       "      <th>email</th>\n",
       "      <th>creation_source</th>\n",
       "      <th>last_session_creation_time</th>\n",
       "      <th>opted_in_to_mailing_list</th>\n",
       "      <th>enabled_for_marketing_drip</th>\n",
       "      <th>org_id</th>\n",
       "      <th>invited_by_user_id</th>\n",
       "    </tr>\n",
       "  </thead>\n",
       "  <tbody>\n",
       "    <tr>\n",
       "      <th>0</th>\n",
       "      <td>1</td>\n",
       "      <td>2014-04-22 03:53:30</td>\n",
       "      <td>Clausen August</td>\n",
       "      <td>AugustCClausen@yahoo.com</td>\n",
       "      <td>GUEST_INVITE</td>\n",
       "      <td>1.398139e+09</td>\n",
       "      <td>1</td>\n",
       "      <td>0</td>\n",
       "      <td>11</td>\n",
       "      <td>10803.0</td>\n",
       "    </tr>\n",
       "    <tr>\n",
       "      <th>1</th>\n",
       "      <td>2</td>\n",
       "      <td>2013-11-15 03:45:04</td>\n",
       "      <td>Poole Matthew</td>\n",
       "      <td>MatthewPoole@gustr.com</td>\n",
       "      <td>ORG_INVITE</td>\n",
       "      <td>1.396238e+09</td>\n",
       "      <td>0</td>\n",
       "      <td>0</td>\n",
       "      <td>1</td>\n",
       "      <td>316.0</td>\n",
       "    </tr>\n",
       "    <tr>\n",
       "      <th>2</th>\n",
       "      <td>3</td>\n",
       "      <td>2013-03-19 23:14:52</td>\n",
       "      <td>Bottrill Mitchell</td>\n",
       "      <td>MitchellBottrill@gustr.com</td>\n",
       "      <td>ORG_INVITE</td>\n",
       "      <td>1.363735e+09</td>\n",
       "      <td>0</td>\n",
       "      <td>0</td>\n",
       "      <td>94</td>\n",
       "      <td>1525.0</td>\n",
       "    </tr>\n",
       "    <tr>\n",
       "      <th>3</th>\n",
       "      <td>4</td>\n",
       "      <td>2013-05-21 08:09:28</td>\n",
       "      <td>Clausen Nicklas</td>\n",
       "      <td>NicklasSClausen@yahoo.com</td>\n",
       "      <td>GUEST_INVITE</td>\n",
       "      <td>1.369210e+09</td>\n",
       "      <td>0</td>\n",
       "      <td>0</td>\n",
       "      <td>1</td>\n",
       "      <td>5151.0</td>\n",
       "    </tr>\n",
       "    <tr>\n",
       "      <th>4</th>\n",
       "      <td>5</td>\n",
       "      <td>2013-01-17 10:14:20</td>\n",
       "      <td>Raw Grace</td>\n",
       "      <td>GraceRaw@yahoo.com</td>\n",
       "      <td>GUEST_INVITE</td>\n",
       "      <td>1.358850e+09</td>\n",
       "      <td>0</td>\n",
       "      <td>0</td>\n",
       "      <td>193</td>\n",
       "      <td>5240.0</td>\n",
       "    </tr>\n",
       "  </tbody>\n",
       "</table>\n",
       "</div>"
      ],
      "text/plain": [
       "   object_id        creation_time               name  \\\n",
       "0          1  2014-04-22 03:53:30     Clausen August   \n",
       "1          2  2013-11-15 03:45:04      Poole Matthew   \n",
       "2          3  2013-03-19 23:14:52  Bottrill Mitchell   \n",
       "3          4  2013-05-21 08:09:28    Clausen Nicklas   \n",
       "4          5  2013-01-17 10:14:20          Raw Grace   \n",
       "\n",
       "                        email creation_source  last_session_creation_time  \\\n",
       "0    AugustCClausen@yahoo.com    GUEST_INVITE                1.398139e+09   \n",
       "1      MatthewPoole@gustr.com      ORG_INVITE                1.396238e+09   \n",
       "2  MitchellBottrill@gustr.com      ORG_INVITE                1.363735e+09   \n",
       "3   NicklasSClausen@yahoo.com    GUEST_INVITE                1.369210e+09   \n",
       "4          GraceRaw@yahoo.com    GUEST_INVITE                1.358850e+09   \n",
       "\n",
       "   opted_in_to_mailing_list  enabled_for_marketing_drip  org_id  \\\n",
       "0                         1                           0      11   \n",
       "1                         0                           0       1   \n",
       "2                         0                           0      94   \n",
       "3                         0                           0       1   \n",
       "4                         0                           0     193   \n",
       "\n",
       "   invited_by_user_id  \n",
       "0             10803.0  \n",
       "1               316.0  \n",
       "2              1525.0  \n",
       "3              5151.0  \n",
       "4              5240.0  "
      ]
     },
     "execution_count": 5,
     "metadata": {},
     "output_type": "execute_result"
    }
   ],
   "source": [
    "raw_users_df = pd.read_csv('takehome_users.csv', encoding = 'cp1252')\n",
    "raw_users_df.head()"
   ]
  },
  {
   "cell_type": "code",
   "execution_count": 73,
   "id": "eb47a639-132d-4163-9db3-14fd57f937a7",
   "metadata": {},
   "outputs": [
    {
     "name": "stdout",
     "output_type": "stream",
     "text": [
      "<class 'pandas.core.frame.DataFrame'>\n",
      "RangeIndex: 12000 entries, 0 to 11999\n",
      "Data columns (total 10 columns):\n",
      " #   Column                      Non-Null Count  Dtype  \n",
      "---  ------                      --------------  -----  \n",
      " 0   object_id                   12000 non-null  int64  \n",
      " 1   creation_time               12000 non-null  object \n",
      " 2   name                        12000 non-null  object \n",
      " 3   email                       12000 non-null  object \n",
      " 4   creation_source             12000 non-null  object \n",
      " 5   last_session_creation_time  8823 non-null   float64\n",
      " 6   opted_in_to_mailing_list    12000 non-null  int64  \n",
      " 7   enabled_for_marketing_drip  12000 non-null  int64  \n",
      " 8   org_id                      12000 non-null  int64  \n",
      " 9   invited_by_user_id          6417 non-null   float64\n",
      "dtypes: float64(2), int64(4), object(4)\n",
      "memory usage: 937.6+ KB\n"
     ]
    }
   ],
   "source": [
    "raw_users_df.info()"
   ]
  },
  {
   "cell_type": "code",
   "execution_count": 69,
   "id": "cf7196c0-7321-42fa-a00d-6287b1b805f9",
   "metadata": {},
   "outputs": [
    {
     "data": {
      "text/plain": [
       "object_id                        0\n",
       "creation_time                    0\n",
       "name                             0\n",
       "email                            0\n",
       "creation_source                  0\n",
       "last_session_creation_time    3177\n",
       "opted_in_to_mailing_list         0\n",
       "enabled_for_marketing_drip       0\n",
       "org_id                           0\n",
       "invited_by_user_id            5583\n",
       "dtype: int64"
      ]
     },
     "execution_count": 69,
     "metadata": {},
     "output_type": "execute_result"
    }
   ],
   "source": [
    "raw_users_df.isna().sum()"
   ]
  },
  {
   "cell_type": "code",
   "execution_count": 70,
   "id": "6eba8aff-d0a2-4603-91ee-7a432c0e8d8e",
   "metadata": {},
   "outputs": [
    {
     "data": {
      "text/plain": [
       "array(['GUEST_INVITE', 'ORG_INVITE', 'SIGNUP', 'PERSONAL_PROJECTS',\n",
       "       'SIGNUP_GOOGLE_AUTH'], dtype=object)"
      ]
     },
     "execution_count": 70,
     "metadata": {},
     "output_type": "execute_result"
    }
   ],
   "source": [
    "raw_users_df['creation_source'].unique()"
   ]
  },
  {
   "cell_type": "code",
   "execution_count": 6,
   "id": "92e16d46-ce00-456d-b9f4-28f9b143c44c",
   "metadata": {},
   "outputs": [
    {
     "data": {
      "text/plain": [
       "417"
      ]
     },
     "execution_count": 6,
     "metadata": {},
     "output_type": "execute_result"
    }
   ],
   "source": [
    "len(raw_users_df['org_id'].unique())"
   ]
  },
  {
   "cell_type": "markdown",
   "id": "cb2caa6b-0942-4005-9e4b-bdc71239a8d2",
   "metadata": {},
   "source": [
    "There are over 400 unique organizations. Maybe one or two of them correlates really strongly with adoption rate. If so, I'll create features for those organizations. Otherwise I'll drop the column."
   ]
  },
  {
   "cell_type": "code",
   "execution_count": 81,
   "id": "9a215524-6dce-4b47-8489-3d8d09d2888f",
   "metadata": {},
   "outputs": [
    {
     "data": {
      "text/plain": [
       "0       1970-01-01 00:00:01.398138810\n",
       "1       1970-01-01 00:00:01.396237504\n",
       "2       1970-01-01 00:00:01.363734892\n",
       "3       1970-01-01 00:00:01.369210168\n",
       "4       1970-01-01 00:00:01.358849660\n",
       "                     ...             \n",
       "11995   1970-01-01 00:00:01.378448055\n",
       "11996   1970-01-01 00:00:01.358274517\n",
       "11997   1970-01-01 00:00:01.398602716\n",
       "11998   1970-01-01 00:00:01.338638159\n",
       "11999   1970-01-01 00:00:01.390726632\n",
       "Name: last_session_creation_time, Length: 12000, dtype: datetime64[ns]"
      ]
     },
     "execution_count": 81,
     "metadata": {},
     "output_type": "execute_result"
    }
   ],
   "source": [
    "pd.to_datetime(raw_users_df['last_session_creation_time'])"
   ]
  },
  {
   "cell_type": "markdown",
   "id": "843bc48c-d68e-4608-9297-e97bff70626a",
   "metadata": {},
   "source": [
    "### Observations ###\n",
    "This table needs more attention.\n",
    "* The time data is not of consistent format.\n",
    "*  I have missing values in the last session column and the invited-by-user-id column.\n",
    "    *  These both make sense. If the user wasn't invited by another, they won't have a user id attributed to an inviter.\n",
    "    *  If the user never logged in after creating their account, they won't have a last session creation time. \n",
    "    * I'll fill the missing values in the session creation column with the signup date. I'll investigate the intviter user id column to understand if I can drop that column. Unless there are certain users that invite hundreds of users, this information probably isn't helpful for predictive or therefore actionable purposes. It'll more or less be captured by the creation source column.\n",
    "* I have names and emails that won't be useful for predictions, so I can drop those.\n",
    "* I have 417 unique values for organization ID. I need to check and see if any one organization is strongly correlated with adoption."
   ]
  },
  {
   "cell_type": "code",
   "execution_count": 79,
   "id": "7495fb02-4982-49ca-95c3-05b23f02f19d",
   "metadata": {},
   "outputs": [
    {
     "data": {
      "text/plain": [
       "2565"
      ]
     },
     "execution_count": 79,
     "metadata": {},
     "output_type": "execute_result"
    }
   ],
   "source": [
    "len(raw_users_df['invited_by_user_id'].unique())"
   ]
  },
  {
   "cell_type": "code",
   "execution_count": 80,
   "id": "6d940872-e1fa-4e2e-89e3-a65f8eed0b87",
   "metadata": {},
   "outputs": [
    {
     "data": {
      "text/plain": [
       "12000"
      ]
     },
     "execution_count": 80,
     "metadata": {},
     "output_type": "execute_result"
    }
   ],
   "source": [
    "len(raw_users_df['object_id'].unique())"
   ]
  },
  {
   "cell_type": "code",
   "execution_count": 84,
   "id": "44c12d79-31bf-4f43-8177-a1c3263eb458",
   "metadata": {},
   "outputs": [
    {
     "data": {
      "image/png": "[encoded data removed]",
      "text/plain": [
       "<Figure size 640x480 with 1 Axes>"
      ]
     },
     "metadata": {},
     "output_type": "display_data"
    }
   ],
   "source": [
    "sns.histplot(data = raw_users_df['invited_by_user_id'].value_counts(), binwidth = 1)\n",
    "plt.suptitle('Occurrence of User Inviting Others')\n",
    "plt.title('Most Users Invite Fewer Than 3 Others')\n",
    "plt.ylabel('Frequency')\n",
    "plt.xlabel('Number of Users Invited')\n",
    "plt.show()"
   ]
  },
  {
   "cell_type": "markdown",
   "id": "9a023331-7783-4e86-8b52-bdbf3b96809b",
   "metadata": {},
   "source": [
    "Most users who invite others only invite 1 other user. I can drop the column of inviter ID's without affecting my ability to analyze and predict from the remaining data. I still have the signup source feature to tell me if being invited is a predictor of adoption."
   ]
  },
  {
   "cell_type": "code",
   "execution_count": 86,
   "id": "af0d02b1-e954-419f-aee1-52d0e46ac3d3",
   "metadata": {},
   "outputs": [
    {
     "data": {
      "image/png": "[encoded data removed]",
      "text/plain": [
       "<Figure size 640x480 with 1 Axes>"
      ]
     },
     "metadata": {},
     "output_type": "display_data"
    }
   ],
   "source": [
    "sns.histplot(data = raw_users_df['org_id'].value_counts(), bins = 20)\n",
    "plt.suptitle('Most Organizations Have Fewer Than 50 Signups.')\n",
    "plt.title('Some Have Over 100')\n",
    "plt.xlabel('Number of Signups Per Organization')\n",
    "plt.ylabel('Frequency')\n",
    "plt.show()"
   ]
  },
  {
   "cell_type": "markdown",
   "id": "cd65b656-1844-41f5-9cd5-bdb06d2fb535",
   "metadata": {},
   "source": [
    "There are a couple organizatons with over 100 users. Let's look at those organizations."
   ]
  },
  {
   "cell_type": "code",
   "execution_count": 73,
   "id": "6997aae4-a015-4067-b2ed-38356d5f9999",
   "metadata": {},
   "outputs": [
    {
     "data": {
      "text/html": [
       "<div>\n",
       "<style scoped>\n",
       "    .dataframe tbody tr th:only-of-type {\n",
       "        vertical-align: middle;\n",
       "    }\n",
       "\n",
       "    .dataframe tbody tr th {\n",
       "        vertical-align: top;\n",
       "    }\n",
       "\n",
       "    .dataframe thead th {\n",
       "        text-align: right;\n",
       "    }\n",
       "</style>\n",
       "<table border=\"1\" class=\"dataframe\">\n",
       "  <thead>\n",
       "    <tr style=\"text-align: right;\">\n",
       "      <th></th>\n",
       "      <th>org_id</th>\n",
       "      <th>users</th>\n",
       "      <th>adopted</th>\n",
       "      <th>conversion_pct</th>\n",
       "    </tr>\n",
       "  </thead>\n",
       "  <tbody>\n",
       "    <tr>\n",
       "      <th>4</th>\n",
       "      <td>4</td>\n",
       "      <td>159</td>\n",
       "      <td>23</td>\n",
       "      <td>14.465</td>\n",
       "    </tr>\n",
       "    <tr>\n",
       "      <th>8</th>\n",
       "      <td>9</td>\n",
       "      <td>124</td>\n",
       "      <td>22</td>\n",
       "      <td>17.742</td>\n",
       "    </tr>\n",
       "    <tr>\n",
       "      <th>0</th>\n",
       "      <td>0</td>\n",
       "      <td>319</td>\n",
       "      <td>21</td>\n",
       "      <td>6.583</td>\n",
       "    </tr>\n",
       "    <tr>\n",
       "      <th>7</th>\n",
       "      <td>7</td>\n",
       "      <td>119</td>\n",
       "      <td>21</td>\n",
       "      <td>17.647</td>\n",
       "    </tr>\n",
       "    <tr>\n",
       "      <th>1</th>\n",
       "      <td>1</td>\n",
       "      <td>233</td>\n",
       "      <td>20</td>\n",
       "      <td>8.584</td>\n",
       "    </tr>\n",
       "    <tr>\n",
       "      <th>2</th>\n",
       "      <td>2</td>\n",
       "      <td>201</td>\n",
       "      <td>18</td>\n",
       "      <td>8.955</td>\n",
       "    </tr>\n",
       "    <tr>\n",
       "      <th>3</th>\n",
       "      <td>3</td>\n",
       "      <td>168</td>\n",
       "      <td>17</td>\n",
       "      <td>10.119</td>\n",
       "    </tr>\n",
       "    <tr>\n",
       "      <th>5</th>\n",
       "      <td>5</td>\n",
       "      <td>128</td>\n",
       "      <td>17</td>\n",
       "      <td>13.281</td>\n",
       "    </tr>\n",
       "    <tr>\n",
       "      <th>6</th>\n",
       "      <td>6</td>\n",
       "      <td>138</td>\n",
       "      <td>17</td>\n",
       "      <td>12.319</td>\n",
       "    </tr>\n",
       "    <tr>\n",
       "      <th>9</th>\n",
       "      <td>10</td>\n",
       "      <td>104</td>\n",
       "      <td>11</td>\n",
       "      <td>10.577</td>\n",
       "    </tr>\n",
       "  </tbody>\n",
       "</table>\n",
       "</div>"
      ],
      "text/plain": [
       "   org_id  users  adopted  conversion_pct\n",
       "4       4    159       23          14.465\n",
       "8       9    124       22          17.742\n",
       "0       0    319       21           6.583\n",
       "7       7    119       21          17.647\n",
       "1       1    233       20           8.584\n",
       "2       2    201       18           8.955\n",
       "3       3    168       17          10.119\n",
       "5       5    128       17          13.281\n",
       "6       6    138       17          12.319\n",
       "9      10    104       11          10.577"
      ]
     },
     "execution_count": 73,
     "metadata": {},
     "output_type": "execute_result"
    }
   ],
   "source": [
    "org_df = (raw_users_df\n",
    "          .copy()\n",
    "          .loc[:, ['object_id', 'org_id']]\n",
    "          .assign(adopted = lambda x: x['object_id'].isin(adopted_users))\n",
    "          .astype({'adopted': 'int'})\n",
    "          .groupby('org_id')\n",
    "          .agg({'object_id': 'size', 'adopted': sum})\n",
    "          .rename(columns = {'object_id': 'users'})\n",
    "          .query('users >= 100')\n",
    "          .assign(conversion_pct = lambda x: ((x['adopted'] * 100 / x['users']).round(3)))\n",
    "          .reset_index(drop = False)\n",
    "          .sort_values(by = 'adopted', ascending = False)\n",
    "         )\n",
    "org_df"
   ]
  },
  {
   "cell_type": "code",
   "execution_count": 89,
   "id": "131dd70b-c905-4cf2-a0b1-3e3d81243381",
   "metadata": {},
   "outputs": [
    {
     "data": {
      "image/png": "[encoded data removed]",
      "text/plain": [
       "<Figure size 640x480 with 1 Axes>"
      ]
     },
     "metadata": {},
     "output_type": "display_data"
    }
   ],
   "source": [
    "sns.histplot(data = org_df['adopted'], binwidth = 1)\n",
    "plt.title('Even Large Organizations Have Few Adopted Users')\n",
    "plt.xlabel('Number of Adopted Users')\n",
    "plt.ylabel('Frequency')\n",
    "plt.show()"
   ]
  },
  {
   "cell_type": "markdown",
   "id": "63978e00-d9d4-4714-b10f-e82ae7f48c5d",
   "metadata": {},
   "source": [
    "There isn't one organization among the large organizations that has an outstanding conversion percentage. In fact, the outlier conversion percentages were only present among the smallest organizations. Excluding those due to sample size, we can see that organization ID doesn't correlate with adoption."
   ]
  },
  {
   "cell_type": "markdown",
   "id": "ca9ccc0d-03a6-4a18-b743-3fb92813d172",
   "metadata": {},
   "source": [
    "The creation and session dates are the last columns to address before transforming the data. Without knowledge of some event that would drive account creation, like an ad campaign or promotion, it is hard to imagine that account creation date would correlate meaningfully with user adoption. Any correlation there would likely be spurious. I do want to investigate if a user is more likely to have adopted the app if they've logged in in a month that is different from the month in which they signed up."
   ]
  },
  {
   "cell_type": "code",
   "execution_count": 116,
   "id": "f7d0b810-8e88-429f-ac3d-8fb5d17d7c36",
   "metadata": {},
   "outputs": [
    {
     "data": {
      "text/html": [
       "<div>\n",
       "<style scoped>\n",
       "    .dataframe tbody tr th:only-of-type {\n",
       "        vertical-align: middle;\n",
       "    }\n",
       "\n",
       "    .dataframe tbody tr th {\n",
       "        vertical-align: top;\n",
       "    }\n",
       "\n",
       "    .dataframe thead th {\n",
       "        text-align: right;\n",
       "    }\n",
       "</style>\n",
       "<table border=\"1\" class=\"dataframe\">\n",
       "  <thead>\n",
       "    <tr style=\"text-align: right;\">\n",
       "      <th></th>\n",
       "      <th>mail_list</th>\n",
       "      <th>drip_mktg</th>\n",
       "      <th>creation_source</th>\n",
       "      <th>diff_month</th>\n",
       "      <th>adopted</th>\n",
       "    </tr>\n",
       "    <tr>\n",
       "      <th>user_id</th>\n",
       "      <th></th>\n",
       "      <th></th>\n",
       "      <th></th>\n",
       "      <th></th>\n",
       "      <th></th>\n",
       "    </tr>\n",
       "  </thead>\n",
       "  <tbody>\n",
       "    <tr>\n",
       "      <th>1</th>\n",
       "      <td>1</td>\n",
       "      <td>0</td>\n",
       "      <td>GUEST_INVITE</td>\n",
       "      <td>0</td>\n",
       "      <td>0</td>\n",
       "    </tr>\n",
       "    <tr>\n",
       "      <th>2</th>\n",
       "      <td>0</td>\n",
       "      <td>0</td>\n",
       "      <td>ORG_INVITE</td>\n",
       "      <td>1</td>\n",
       "      <td>1</td>\n",
       "    </tr>\n",
       "    <tr>\n",
       "      <th>3</th>\n",
       "      <td>0</td>\n",
       "      <td>0</td>\n",
       "      <td>ORG_INVITE</td>\n",
       "      <td>0</td>\n",
       "      <td>0</td>\n",
       "    </tr>\n",
       "    <tr>\n",
       "      <th>4</th>\n",
       "      <td>0</td>\n",
       "      <td>0</td>\n",
       "      <td>GUEST_INVITE</td>\n",
       "      <td>0</td>\n",
       "      <td>0</td>\n",
       "    </tr>\n",
       "    <tr>\n",
       "      <th>5</th>\n",
       "      <td>0</td>\n",
       "      <td>0</td>\n",
       "      <td>GUEST_INVITE</td>\n",
       "      <td>0</td>\n",
       "      <td>0</td>\n",
       "    </tr>\n",
       "  </tbody>\n",
       "</table>\n",
       "</div>"
      ],
      "text/plain": [
       "         mail_list  drip_mktg creation_source  diff_month  adopted\n",
       "user_id                                                           \n",
       "1                1          0    GUEST_INVITE           0        0\n",
       "2                0          0      ORG_INVITE           1        1\n",
       "3                0          0      ORG_INVITE           0        0\n",
       "4                0          0    GUEST_INVITE           0        0\n",
       "5                0          0    GUEST_INVITE           0        0"
      ]
     },
     "execution_count": 116,
     "metadata": {},
     "output_type": "execute_result"
    }
   ],
   "source": [
    "users_df = (raw_users_df\n",
    "            .drop([\n",
    "                'invited_by_user_id',\n",
    "                'name',\n",
    "                'email',\n",
    "                'org_id'\n",
    "            ], axis = 1)\n",
    "            .fillna(raw_users_df['creation_time'])\n",
    "            .assign(creation_month = lambda x: pd.to_datetime(x['creation_time']).dt.month_name())\n",
    "            .assign(last_session_month = lambda x: pd.to_datetime(x['last_session_creation_time'], unit='s').dt.month_name())\n",
    "            .assign(diff_month = lambda x: x['creation_month'] != x['last_session_month'])\n",
    "            .assign(adopted = lambda x: x['object_id'].isin(adopted_users))\n",
    "            .astype({'diff_month': 'int', 'adopted': 'int'})\n",
    "            .rename(columns = {\n",
    "                'object_id': 'user_id',\n",
    "                'opted_in_to_mailing_list': 'mail_list', \n",
    "                'enabled_for_marketing_drip': 'drip_mktg', \n",
    "            })\n",
    "            .reindex(columns = [\n",
    "                'user_id',\n",
    "                'mail_list',\n",
    "                'drip_mktg',\n",
    "                'creation_source',\n",
    "                'diff_month',\n",
    "                'adopted'\n",
    "            ])\n",
    "            .set_index('user_id')\n",
    "           )\n",
    "users_df.head()"
   ]
  },
  {
   "cell_type": "code",
   "execution_count": 118,
   "id": "04b05b33-a64b-4b5c-9b06-216f94ca3b5f",
   "metadata": {},
   "outputs": [
    {
     "name": "stdout",
     "output_type": "stream",
     "text": [
      "Feature: mail_list, Chi-squared: 0.8078692175806134, P-value: 0.36875096794435114, Degrees of freedom: 1\n",
      "Feature: drip_mktg, Chi-squared: 0.5998476135084005, P-value: 0.43863617433648705, Degrees of freedom: 1\n",
      "Feature: creation_source, Chi-squared: 129.32365926966503, P-value: 5.432968409429225e-27, Degrees of freedom: 4\n",
      "Feature: diff_month, Chi-squared: 2192.5347994801714, P-value: 0.0, Degrees of freedom: 1\n"
     ]
    }
   ],
   "source": [
    "features = ['mail_list', 'drip_mktg', 'creation_source', 'diff_month']\n",
    "\n",
    "results = {}\n",
    "\n",
    "for feature in features:\n",
    "    contingency_table = pd.crosstab(users_df[feature], users_df['adopted'])\n",
    "\n",
    "    # Perform the chi-squared test\n",
    "    chi2, p, dof, expected = chi2_contingency(contingency_table)\n",
    "\n",
    "    # Store the results\n",
    "    results[feature] = {'chi2': chi2, 'p-value': p, 'degrees_of_freedom': dof}\n",
    "\n",
    "# Display the results\n",
    "for feature, result in results.items():\n",
    "    print(f\"Feature: {feature}, Chi-squared: {result['chi2']}, P-value: {result['p-value']}, Degrees of freedom: {result['degrees_of_freedom']}\")"
   ]
  },
  {
   "cell_type": "markdown",
   "id": "da3f77cd-c086-4400-801d-22a316238d23",
   "metadata": {},
   "source": [
    "There are two clear and significant correlations between adoption and features. The first feature is creation source. The second is if a user logged in during a different month than when they signed up. Let's look into these relationships deeper."
   ]
  },
  {
   "cell_type": "code",
   "execution_count": 138,
   "id": "5c0b0482-e8af-47f5-92fd-dd7ce6e3ad49",
   "metadata": {},
   "outputs": [
    {
     "data": {
      "text/html": [
       "<div>\n",
       "<style scoped>\n",
       "    .dataframe tbody tr th:only-of-type {\n",
       "        vertical-align: middle;\n",
       "    }\n",
       "\n",
       "    .dataframe tbody tr th {\n",
       "        vertical-align: top;\n",
       "    }\n",
       "\n",
       "    .dataframe thead th {\n",
       "        text-align: right;\n",
       "    }\n",
       "</style>\n",
       "<table border=\"1\" class=\"dataframe\">\n",
       "  <thead>\n",
       "    <tr style=\"text-align: right;\">\n",
       "      <th>adopted</th>\n",
       "      <th>0</th>\n",
       "      <th>1</th>\n",
       "    </tr>\n",
       "    <tr>\n",
       "      <th>creation_source</th>\n",
       "      <th></th>\n",
       "      <th></th>\n",
       "    </tr>\n",
       "  </thead>\n",
       "  <tbody>\n",
       "    <tr>\n",
       "      <th>GUEST_INVITE</th>\n",
       "      <td>1661</td>\n",
       "      <td>502</td>\n",
       "    </tr>\n",
       "    <tr>\n",
       "      <th>ORG_INVITE</th>\n",
       "      <td>3471</td>\n",
       "      <td>783</td>\n",
       "    </tr>\n",
       "    <tr>\n",
       "      <th>PERSONAL_PROJECTS</th>\n",
       "      <td>1880</td>\n",
       "      <td>231</td>\n",
       "    </tr>\n",
       "    <tr>\n",
       "      <th>SIGNUP</th>\n",
       "      <td>1669</td>\n",
       "      <td>418</td>\n",
       "    </tr>\n",
       "    <tr>\n",
       "      <th>SIGNUP_GOOGLE_AUTH</th>\n",
       "      <td>1071</td>\n",
       "      <td>314</td>\n",
       "    </tr>\n",
       "  </tbody>\n",
       "</table>\n",
       "</div>"
      ],
      "text/plain": [
       "adopted                0    1\n",
       "creation_source              \n",
       "GUEST_INVITE        1661  502\n",
       "ORG_INVITE          3471  783\n",
       "PERSONAL_PROJECTS   1880  231\n",
       "SIGNUP              1669  418\n",
       "SIGNUP_GOOGLE_AUTH  1071  314"
      ]
     },
     "execution_count": 138,
     "metadata": {},
     "output_type": "execute_result"
    }
   ],
   "source": [
    "source_table = pd.crosstab(users_df['creation_source'], users_df['adopted'])\n",
    "source_table"
   ]
  },
  {
   "cell_type": "code",
   "execution_count": 133,
   "id": "84d6350b-9ddd-406e-beac-eab70ee15996",
   "metadata": {},
   "outputs": [
    {
     "data": {
      "text/html": [
       "<div>\n",
       "<style scoped>\n",
       "    .dataframe tbody tr th:only-of-type {\n",
       "        vertical-align: middle;\n",
       "    }\n",
       "\n",
       "    .dataframe tbody tr th {\n",
       "        vertical-align: top;\n",
       "    }\n",
       "\n",
       "    .dataframe thead th {\n",
       "        text-align: right;\n",
       "    }\n",
       "</style>\n",
       "<table border=\"1\" class=\"dataframe\">\n",
       "  <thead>\n",
       "    <tr style=\"text-align: right;\">\n",
       "      <th></th>\n",
       "      <th>creation_source</th>\n",
       "      <th>adopted</th>\n",
       "      <th>count</th>\n",
       "    </tr>\n",
       "  </thead>\n",
       "  <tbody>\n",
       "    <tr>\n",
       "      <th>0</th>\n",
       "      <td>GUEST_INVITE</td>\n",
       "      <td>0</td>\n",
       "      <td>1661</td>\n",
       "    </tr>\n",
       "    <tr>\n",
       "      <th>1</th>\n",
       "      <td>ORG_INVITE</td>\n",
       "      <td>0</td>\n",
       "      <td>3471</td>\n",
       "    </tr>\n",
       "    <tr>\n",
       "      <th>2</th>\n",
       "      <td>PERSONAL_PROJECTS</td>\n",
       "      <td>0</td>\n",
       "      <td>1880</td>\n",
       "    </tr>\n",
       "    <tr>\n",
       "      <th>3</th>\n",
       "      <td>SIGNUP</td>\n",
       "      <td>0</td>\n",
       "      <td>1669</td>\n",
       "    </tr>\n",
       "    <tr>\n",
       "      <th>4</th>\n",
       "      <td>SIGNUP_GOOGLE_AUTH</td>\n",
       "      <td>0</td>\n",
       "      <td>1071</td>\n",
       "    </tr>\n",
       "    <tr>\n",
       "      <th>5</th>\n",
       "      <td>GUEST_INVITE</td>\n",
       "      <td>1</td>\n",
       "      <td>502</td>\n",
       "    </tr>\n",
       "    <tr>\n",
       "      <th>6</th>\n",
       "      <td>ORG_INVITE</td>\n",
       "      <td>1</td>\n",
       "      <td>783</td>\n",
       "    </tr>\n",
       "    <tr>\n",
       "      <th>7</th>\n",
       "      <td>PERSONAL_PROJECTS</td>\n",
       "      <td>1</td>\n",
       "      <td>231</td>\n",
       "    </tr>\n",
       "    <tr>\n",
       "      <th>8</th>\n",
       "      <td>SIGNUP</td>\n",
       "      <td>1</td>\n",
       "      <td>418</td>\n",
       "    </tr>\n",
       "    <tr>\n",
       "      <th>9</th>\n",
       "      <td>SIGNUP_GOOGLE_AUTH</td>\n",
       "      <td>1</td>\n",
       "      <td>314</td>\n",
       "    </tr>\n",
       "  </tbody>\n",
       "</table>\n",
       "</div>"
      ],
      "text/plain": [
       "      creation_source adopted  count\n",
       "0        GUEST_INVITE       0   1661\n",
       "1          ORG_INVITE       0   3471\n",
       "2   PERSONAL_PROJECTS       0   1880\n",
       "3              SIGNUP       0   1669\n",
       "4  SIGNUP_GOOGLE_AUTH       0   1071\n",
       "5        GUEST_INVITE       1    502\n",
       "6          ORG_INVITE       1    783\n",
       "7   PERSONAL_PROJECTS       1    231\n",
       "8              SIGNUP       1    418\n",
       "9  SIGNUP_GOOGLE_AUTH       1    314"
      ]
     },
     "execution_count": 133,
     "metadata": {},
     "output_type": "execute_result"
    }
   ],
   "source": [
    "long_source_table = source_table.reset_index(drop = False).melt(id_vars = 'creation_source',\n",
    "                                      value_vars = [0, 1],\n",
    "                                      var_name = 'adopted',\n",
    "                                      value_name = 'count'\n",
    ")\n",
    "\n",
    "long_source_table"
   ]
  },
  {
   "cell_type": "code",
   "execution_count": 137,
   "id": "2d5a7c5f-3c03-415f-a282-452ea78926b7",
   "metadata": {},
   "outputs": [
    {
     "data": {
      "image/png": "[encoded data removed]",
      "text/plain": [
       "<Figure size 1000x600 with 1 Axes>"
      ]
     },
     "metadata": {},
     "output_type": "display_data"
    }
   ],
   "source": [
    "plt.figure(figsize=(10, 6))\n",
    "sns.barplot(x='count', y='creation_source', hue='adopted', data=long_source_table)\n",
    "\n",
    "# Add labels and title\n",
    "plt.xlabel('Count')\n",
    "plt.ylabel('Creation Source')\n",
    "plt.title('Stacked Bar Plot of Creation Source by User Status')\n",
    "plt.legend(title='User Status')\n",
    "\n",
    "# Show the plot\n",
    "plt.show()"
   ]
  },
  {
   "cell_type": "code",
   "execution_count": 139,
   "id": "5dff22b2-8772-41b8-b752-d31dbde7eb45",
   "metadata": {},
   "outputs": [
    {
     "data": {
      "text/html": [
       "<div>\n",
       "<style scoped>\n",
       "    .dataframe tbody tr th:only-of-type {\n",
       "        vertical-align: middle;\n",
       "    }\n",
       "\n",
       "    .dataframe tbody tr th {\n",
       "        vertical-align: top;\n",
       "    }\n",
       "\n",
       "    .dataframe thead th {\n",
       "        text-align: right;\n",
       "    }\n",
       "</style>\n",
       "<table border=\"1\" class=\"dataframe\">\n",
       "  <thead>\n",
       "    <tr style=\"text-align: right;\">\n",
       "      <th>adopted</th>\n",
       "      <th>0</th>\n",
       "      <th>1</th>\n",
       "    </tr>\n",
       "    <tr>\n",
       "      <th>creation_source</th>\n",
       "      <th></th>\n",
       "      <th></th>\n",
       "    </tr>\n",
       "  </thead>\n",
       "  <tbody>\n",
       "    <tr>\n",
       "      <th>GUEST_INVITE</th>\n",
       "      <td>0.767915</td>\n",
       "      <td>0.232085</td>\n",
       "    </tr>\n",
       "    <tr>\n",
       "      <th>ORG_INVITE</th>\n",
       "      <td>0.815938</td>\n",
       "      <td>0.184062</td>\n",
       "    </tr>\n",
       "    <tr>\n",
       "      <th>PERSONAL_PROJECTS</th>\n",
       "      <td>0.890573</td>\n",
       "      <td>0.109427</td>\n",
       "    </tr>\n",
       "    <tr>\n",
       "      <th>SIGNUP</th>\n",
       "      <td>0.799713</td>\n",
       "      <td>0.200287</td>\n",
       "    </tr>\n",
       "    <tr>\n",
       "      <th>SIGNUP_GOOGLE_AUTH</th>\n",
       "      <td>0.773285</td>\n",
       "      <td>0.226715</td>\n",
       "    </tr>\n",
       "  </tbody>\n",
       "</table>\n",
       "</div>"
      ],
      "text/plain": [
       "adopted                    0         1\n",
       "creation_source                       \n",
       "GUEST_INVITE        0.767915  0.232085\n",
       "ORG_INVITE          0.815938  0.184062\n",
       "PERSONAL_PROJECTS   0.890573  0.109427\n",
       "SIGNUP              0.799713  0.200287\n",
       "SIGNUP_GOOGLE_AUTH  0.773285  0.226715"
      ]
     },
     "execution_count": 139,
     "metadata": {},
     "output_type": "execute_result"
    }
   ],
   "source": [
    "norm_source_table = pd.crosstab(users_df['creation_source'], users_df['adopted'], normalize='index')\n",
    "norm_source_table"
   ]
  },
  {
   "cell_type": "markdown",
   "id": "90da86e7-c397-4bda-876b-4ce67c785c3c",
   "metadata": {},
   "source": [
    "The model will determine a relationship, but it would appear that signing up for a personal project has a weaker correlation with adoption than any other signup reason. It's about half as likely that a user would adopt the app after signing up for a personal project than for any other reason."
   ]
  },
  {
   "cell_type": "code",
   "execution_count": 122,
   "id": "6416c523-6006-4640-b900-39ca5b030237",
   "metadata": {},
   "outputs": [
    {
     "data": {
      "text/html": [
       "<div>\n",
       "<style scoped>\n",
       "    .dataframe tbody tr th:only-of-type {\n",
       "        vertical-align: middle;\n",
       "    }\n",
       "\n",
       "    .dataframe tbody tr th {\n",
       "        vertical-align: top;\n",
       "    }\n",
       "\n",
       "    .dataframe thead th {\n",
       "        text-align: right;\n",
       "    }\n",
       "</style>\n",
       "<table border=\"1\" class=\"dataframe\">\n",
       "  <thead>\n",
       "    <tr style=\"text-align: right;\">\n",
       "      <th>adopted</th>\n",
       "      <th>0</th>\n",
       "      <th>1</th>\n",
       "    </tr>\n",
       "    <tr>\n",
       "      <th>diff_month</th>\n",
       "      <th></th>\n",
       "      <th></th>\n",
       "    </tr>\n",
       "  </thead>\n",
       "  <tbody>\n",
       "    <tr>\n",
       "      <th>0</th>\n",
       "      <td>6188</td>\n",
       "      <td>197</td>\n",
       "    </tr>\n",
       "    <tr>\n",
       "      <th>1</th>\n",
       "      <td>3564</td>\n",
       "      <td>2051</td>\n",
       "    </tr>\n",
       "  </tbody>\n",
       "</table>\n",
       "</div>"
      ],
      "text/plain": [
       "adopted        0     1\n",
       "diff_month            \n",
       "0           6188   197\n",
       "1           3564  2051"
      ]
     },
     "execution_count": 122,
     "metadata": {},
     "output_type": "execute_result"
    }
   ],
   "source": [
    "month_table = pd.crosstab(users_df['diff_month'], users_df['adopted'])#, normalize = 'index')\n",
    "month_table"
   ]
  },
  {
   "cell_type": "code",
   "execution_count": 151,
   "id": "676aef6c-070a-48a2-bf4b-cd5911628427",
   "metadata": {},
   "outputs": [
    {
     "data": {
      "text/html": [
       "<div>\n",
       "<style scoped>\n",
       "    .dataframe tbody tr th:only-of-type {\n",
       "        vertical-align: middle;\n",
       "    }\n",
       "\n",
       "    .dataframe tbody tr th {\n",
       "        vertical-align: top;\n",
       "    }\n",
       "\n",
       "    .dataframe thead th {\n",
       "        text-align: right;\n",
       "    }\n",
       "</style>\n",
       "<table border=\"1\" class=\"dataframe\">\n",
       "  <thead>\n",
       "    <tr style=\"text-align: right;\">\n",
       "      <th></th>\n",
       "      <th>diff_month</th>\n",
       "      <th>adopted</th>\n",
       "      <th>count</th>\n",
       "    </tr>\n",
       "  </thead>\n",
       "  <tbody>\n",
       "    <tr>\n",
       "      <th>0</th>\n",
       "      <td>False</td>\n",
       "      <td>0</td>\n",
       "      <td>6188</td>\n",
       "    </tr>\n",
       "    <tr>\n",
       "      <th>1</th>\n",
       "      <td>True</td>\n",
       "      <td>0</td>\n",
       "      <td>3564</td>\n",
       "    </tr>\n",
       "    <tr>\n",
       "      <th>2</th>\n",
       "      <td>False</td>\n",
       "      <td>1</td>\n",
       "      <td>197</td>\n",
       "    </tr>\n",
       "    <tr>\n",
       "      <th>3</th>\n",
       "      <td>True</td>\n",
       "      <td>1</td>\n",
       "      <td>2051</td>\n",
       "    </tr>\n",
       "  </tbody>\n",
       "</table>\n",
       "</div>"
      ],
      "text/plain": [
       "  diff_month adopted  count\n",
       "0      False       0   6188\n",
       "1       True       0   3564\n",
       "2      False       1    197\n",
       "3       True       1   2051"
      ]
     },
     "execution_count": 151,
     "metadata": {},
     "output_type": "execute_result"
    }
   ],
   "source": [
    "long_month_table = (month_table\n",
    "                    .reset_index(drop = False)\n",
    "                    .astype({'diff_month': bool})\n",
    "                    .astype({'diff_month': 'str'})\n",
    "                    .melt(id_vars = 'diff_month',value_vars = [0, 1], var_name = 'adopted',value_name = 'count'))\n",
    "\n",
    "long_month_table"
   ]
  },
  {
   "cell_type": "code",
   "execution_count": 153,
   "id": "9de48fe7-968d-4b0f-9c60-9828a726ee77",
   "metadata": {},
   "outputs": [
    {
     "data": {
      "image/png": "[encoded data removed]",
      "text/plain": [
       "<Figure size 1000x600 with 1 Axes>"
      ]
     },
     "metadata": {},
     "output_type": "display_data"
    }
   ],
   "source": [
    "plt.figure(figsize=(10, 6))\n",
    "sns.barplot(x='count', y='diff_month', hue='adopted', data=long_month_table)\n",
    "\n",
    "# Add labels and title\n",
    "plt.xlabel('Count')\n",
    "plt.ylabel('Logged in During Multiple Months')\n",
    "plt.title('Stacked Bar Plot of Creation Source by User Login Status')\n",
    "plt.legend(title='User Logged in During Multiple Months')\n",
    "\n",
    "# Show the plot\n",
    "plt.show()"
   ]
  },
  {
   "cell_type": "markdown",
   "id": "c320deaf-08ea-403f-b513-3ee2b7ec3176",
   "metadata": {},
   "source": [
    "Clearly, adopted users log into the app during a different month than their initial signup. This could be viewed as an effect of having adopted the app. But it could also reflect that these users made the app part of their routine. It's important to capture a user's attention when they first try an app and make it part of their routine as quickly as possible and then reinforce that behavior. As such, it might behoove Relax, Inc. to focus their efforts on short-term user retention. If they can get users to log in at least once for a couple weeks after signup, there's a much better chance at adoption."
   ]
  },
  {
   "cell_type": "markdown",
   "id": "5591f414-c377-43d2-9e18-18cb2ebd6898",
   "metadata": {},
   "source": [
    "## Conclusion ##\n",
    "The two main factors that predict user engagement are creation source and logging in during a different month than initial signup."
   ]
  }
 ],
 "metadata": {
  "kernelspec": {
   "display_name": "Python 3 (ipykernel)",
   "language": "python",
   "name": "python3"
  },
  "language_info": {
   "codemirror_mode": {
    "name": "ipython",
    "version": 3
   },
   "file_extension": ".py",
   "mimetype": "text/x-python",
   "name": "python",
   "nbconvert_exporter": "python",
   "pygments_lexer": "ipython3",
   "version": "3.9.13"
  }
 },
 "nbformat": 4,
 "nbformat_minor": 5
}
